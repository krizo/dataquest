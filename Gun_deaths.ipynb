{
 "cells": [
  {
   "cell_type": "code",
   "execution_count": 2,
   "metadata": {
    "collapsed": false,
    "scrolled": true
   },
   "outputs": [
    {
     "name": "stdout",
     "output_type": "stream",
     "text": [
      "['1', '2012', '01', 'Suicide', '0', 'M', '34', 'Asian/Pacific Islander', '100', 'Home', '4']\n",
      "['2', '2012', '01', 'Suicide', '0', 'F', '21', 'White', '100', 'Street', '3']\n",
      "['3', '2012', '01', 'Suicide', '0', 'M', '60', 'White', '100', 'Other specified', '4']\n",
      "['4', '2012', '02', 'Suicide', '0', 'M', '64', 'White', '100', 'Home', '4']\n",
      "['5', '2012', '02', 'Suicide', '0', 'M', '31', 'White', '100', 'Other specified', '2']\n"
     ]
    }
   ],
   "source": [
    "import csv\n",
    "file = open(\"guns.csv\", \"r\")\n",
    "data = list(csv.reader(file))[1:]\n",
    "for row in data[:5]:\n",
    "    print(row)"
   ]
  },
  {
   "cell_type": "code",
   "execution_count": 3,
   "metadata": {
    "collapsed": false
   },
   "outputs": [
    {
     "data": {
      "text/plain": [
       "{'2012': 33563, '2013': 33636, '2014': 33599}"
      ]
     },
     "execution_count": 3,
     "metadata": {},
     "output_type": "execute_result"
    }
   ],
   "source": [
    "# gun deaths by year\n",
    "years = []\n",
    "years_count = {}\n",
    "for row in data:\n",
    "    year = row[1]\n",
    "    if year in years_count:\n",
    "        years_count[year] += 1\n",
    "    else:\n",
    "        years_count[year] = 1\n",
    "years_count"
   ]
  }
 ],
 "metadata": {
  "kernelspec": {
   "display_name": "Python 3",
   "language": "python",
   "name": "python3"
  },
  "language_info": {
   "codemirror_mode": {
    "name": "ipython",
    "version": 3
   },
   "file_extension": ".py",
   "mimetype": "text/x-python",
   "name": "python",
   "nbconvert_exporter": "python",
   "pygments_lexer": "ipython3",
   "version": "3.4.3"
  }
 },
 "nbformat": 4,
 "nbformat_minor": 0
}
