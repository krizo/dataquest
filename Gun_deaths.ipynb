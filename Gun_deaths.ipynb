{
 "cells": [
  {
   "cell_type": "code",
   "execution_count": 5,
   "metadata": {
    "collapsed": false,
    "scrolled": true
   },
   "outputs": [
    {
     "name": "stdout",
     "output_type": "stream",
     "text": [
      "['1', '2012', '01', 'Suicide', '0', 'M', '34', 'Asian/Pacific Islander', '100', 'Home', '4']\n",
      "['2', '2012', '01', 'Suicide', '0', 'F', '21', 'White', '100', 'Street', '3']\n",
      "['3', '2012', '01', 'Suicide', '0', 'M', '60', 'White', '100', 'Other specified', '4']\n",
      "['4', '2012', '02', 'Suicide', '0', 'M', '64', 'White', '100', 'Home', '4']\n",
      "['5', '2012', '02', 'Suicide', '0', 'M', '31', 'White', '100', 'Other specified', '2']\n"
     ]
    }
   ],
   "source": [
    "import csv\n",
    "import datetime\n",
    "file = open(\"guns.csv\", \"r\")\n",
    "data = list(csv.reader(file))[1:]\n",
    "for row in data[:5]:\n",
    "    print(row)"
   ]
  },
  {
   "cell_type": "code",
   "execution_count": 11,
   "metadata": {
    "collapsed": false
   },
   "outputs": [
    {
     "data": {
      "text/plain": [
       "{'2012': 33563, '2013': 33636, '2014': 33599}"
      ]
     },
     "execution_count": 11,
     "metadata": {},
     "output_type": "execute_result"
    }
   ],
   "source": [
    "years = []\n",
    "years_count = {}\n",
    "for row in data:\n",
    "    year = row[1]\n",
    "    if year in years_count:\n",
    "        years_count[year] += 1\n",
    "    else:\n",
    "        years_count[year] = 1\n",
    "years_count"
   ]
  },
  {
   "cell_type": "code",
   "execution_count": 22,
   "metadata": {
    "collapsed": false
   },
   "outputs": [
    {
     "data": {
      "text/plain": [
       "{'2012/01': 2758,\n",
       " '2012/02': 2357,\n",
       " '2012/03': 2743,\n",
       " '2012/04': 2795,\n",
       " '2012/05': 2999,\n",
       " '2012/06': 2826,\n",
       " '2012/07': 3026,\n",
       " '2012/08': 2954,\n",
       " '2012/09': 2852,\n",
       " '2012/10': 2733,\n",
       " '2012/11': 2729,\n",
       " '2012/12': 2791,\n",
       " '2013/01': 2864,\n",
       " '2013/02': 2375,\n",
       " '2013/03': 2862,\n",
       " '2013/04': 2798,\n",
       " '2013/05': 2806,\n",
       " '2013/06': 2920,\n",
       " '2013/07': 3079,\n",
       " '2013/08': 2859,\n",
       " '2013/09': 2742,\n",
       " '2013/10': 2808,\n",
       " '2013/11': 2758,\n",
       " '2013/12': 2765,\n",
       " '2014/01': 2651,\n",
       " '2014/02': 2361,\n",
       " '2014/03': 2684,\n",
       " '2014/04': 2862,\n",
       " '2014/05': 2864,\n",
       " '2014/06': 2931,\n",
       " '2014/07': 2884,\n",
       " '2014/08': 2970,\n",
       " '2014/09': 2914,\n",
       " '2014/10': 2865,\n",
       " '2014/11': 2756,\n",
       " '2014/12': 2857}"
      ]
     },
     "execution_count": 22,
     "metadata": {},
     "output_type": "execute_result"
    }
   ],
   "source": [
    "# gun deaths by date\n",
    "date_counts = {}\n",
    "dates = []\n",
    "for row in data:\n",
    "    year = int(row[1])\n",
    "    month = int(row[2])\n",
    "    date = datetime.datetime(year=year, month=month, day=1).strftime(\"%Y/%m\")\n",
    "    dates.append(date)\n",
    "    if date in date_counts:\n",
    "        date_counts[date] += 1\n",
    "    else:\n",
    "        date_counts[date] = 1\n",
    "date_counts"
   ]
  }
 ],
 "metadata": {
  "kernelspec": {
   "display_name": "Python 3",
   "language": "python",
   "name": "python3"
  },
  "language_info": {
   "codemirror_mode": {
    "name": "ipython",
    "version": 3
   },
   "file_extension": ".py",
   "mimetype": "text/x-python",
   "name": "python",
   "nbconvert_exporter": "python",
   "pygments_lexer": "ipython3",
   "version": "3.4.3"
  }
 },
 "nbformat": 4,
 "nbformat_minor": 0
}
